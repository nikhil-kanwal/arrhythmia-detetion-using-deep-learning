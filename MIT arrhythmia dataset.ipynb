{
 "cells": [
  {
   "cell_type": "markdown",
   "id": "6affc6aa",
   "metadata": {},
   "source": [
    "# Loading the data"
   ]
  },
  {
   "cell_type": "markdown",
   "id": "c34ebc81",
   "metadata": {},
   "source": [
    "The data here i am loading is the MIT arrythmia datset in csv format preprocessed by an organnisation called \n",
    "physionet.org"
   ]
  },
  {
   "cell_type": "code",
   "execution_count": 1,
   "id": "a7df11cd",
   "metadata": {},
   "outputs": [],
   "source": [
    "import pandas as pd\n",
    "\n",
    "X_train = pd.read_csv(\"mitbih_train.csv\",header = None)\n",
    "X_test = pd.read_csv(\"mitbih_test.csv\",header = None)"
   ]
  },
  {
   "cell_type": "markdown",
   "id": "4f143a1b",
   "metadata": {},
   "source": [
    "# scanning the dataset"
   ]
  },
  {
   "cell_type": "code",
   "execution_count": 2,
   "id": "5f84619c",
   "metadata": {},
   "outputs": [
    {
     "data": {
      "text/plain": [
       "pandas.core.frame.DataFrame"
      ]
     },
     "execution_count": 2,
     "metadata": {},
     "output_type": "execute_result"
    }
   ],
   "source": [
    "type(X_train)"
   ]
  },
  {
   "cell_type": "code",
   "execution_count": 3,
   "id": "a535c64c",
   "metadata": {},
   "outputs": [
    {
     "data": {
      "text/html": [
       "<div>\n",
       "<style scoped>\n",
       "    .dataframe tbody tr th:only-of-type {\n",
       "        vertical-align: middle;\n",
       "    }\n",
       "\n",
       "    .dataframe tbody tr th {\n",
       "        vertical-align: top;\n",
       "    }\n",
       "\n",
       "    .dataframe thead th {\n",
       "        text-align: right;\n",
       "    }\n",
       "</style>\n",
       "<table border=\"1\" class=\"dataframe\">\n",
       "  <thead>\n",
       "    <tr style=\"text-align: right;\">\n",
       "      <th></th>\n",
       "      <th>0</th>\n",
       "      <th>1</th>\n",
       "      <th>2</th>\n",
       "      <th>3</th>\n",
       "      <th>4</th>\n",
       "      <th>5</th>\n",
       "      <th>6</th>\n",
       "      <th>7</th>\n",
       "      <th>8</th>\n",
       "      <th>9</th>\n",
       "      <th>...</th>\n",
       "      <th>178</th>\n",
       "      <th>179</th>\n",
       "      <th>180</th>\n",
       "      <th>181</th>\n",
       "      <th>182</th>\n",
       "      <th>183</th>\n",
       "      <th>184</th>\n",
       "      <th>185</th>\n",
       "      <th>186</th>\n",
       "      <th>187</th>\n",
       "    </tr>\n",
       "  </thead>\n",
       "  <tbody>\n",
       "    <tr>\n",
       "      <th>0</th>\n",
       "      <td>0.977941</td>\n",
       "      <td>0.926471</td>\n",
       "      <td>0.681373</td>\n",
       "      <td>0.245098</td>\n",
       "      <td>0.154412</td>\n",
       "      <td>0.191176</td>\n",
       "      <td>0.151961</td>\n",
       "      <td>0.085784</td>\n",
       "      <td>0.058824</td>\n",
       "      <td>0.049020</td>\n",
       "      <td>...</td>\n",
       "      <td>0.0</td>\n",
       "      <td>0.0</td>\n",
       "      <td>0.0</td>\n",
       "      <td>0.0</td>\n",
       "      <td>0.0</td>\n",
       "      <td>0.0</td>\n",
       "      <td>0.0</td>\n",
       "      <td>0.0</td>\n",
       "      <td>0.0</td>\n",
       "      <td>0.0</td>\n",
       "    </tr>\n",
       "    <tr>\n",
       "      <th>1</th>\n",
       "      <td>0.960114</td>\n",
       "      <td>0.863248</td>\n",
       "      <td>0.461538</td>\n",
       "      <td>0.196581</td>\n",
       "      <td>0.094017</td>\n",
       "      <td>0.125356</td>\n",
       "      <td>0.099715</td>\n",
       "      <td>0.088319</td>\n",
       "      <td>0.074074</td>\n",
       "      <td>0.082621</td>\n",
       "      <td>...</td>\n",
       "      <td>0.0</td>\n",
       "      <td>0.0</td>\n",
       "      <td>0.0</td>\n",
       "      <td>0.0</td>\n",
       "      <td>0.0</td>\n",
       "      <td>0.0</td>\n",
       "      <td>0.0</td>\n",
       "      <td>0.0</td>\n",
       "      <td>0.0</td>\n",
       "      <td>0.0</td>\n",
       "    </tr>\n",
       "    <tr>\n",
       "      <th>2</th>\n",
       "      <td>1.000000</td>\n",
       "      <td>0.659459</td>\n",
       "      <td>0.186486</td>\n",
       "      <td>0.070270</td>\n",
       "      <td>0.070270</td>\n",
       "      <td>0.059459</td>\n",
       "      <td>0.056757</td>\n",
       "      <td>0.043243</td>\n",
       "      <td>0.054054</td>\n",
       "      <td>0.045946</td>\n",
       "      <td>...</td>\n",
       "      <td>0.0</td>\n",
       "      <td>0.0</td>\n",
       "      <td>0.0</td>\n",
       "      <td>0.0</td>\n",
       "      <td>0.0</td>\n",
       "      <td>0.0</td>\n",
       "      <td>0.0</td>\n",
       "      <td>0.0</td>\n",
       "      <td>0.0</td>\n",
       "      <td>0.0</td>\n",
       "    </tr>\n",
       "    <tr>\n",
       "      <th>3</th>\n",
       "      <td>0.925414</td>\n",
       "      <td>0.665746</td>\n",
       "      <td>0.541436</td>\n",
       "      <td>0.276243</td>\n",
       "      <td>0.196133</td>\n",
       "      <td>0.077348</td>\n",
       "      <td>0.071823</td>\n",
       "      <td>0.060773</td>\n",
       "      <td>0.066298</td>\n",
       "      <td>0.058011</td>\n",
       "      <td>...</td>\n",
       "      <td>0.0</td>\n",
       "      <td>0.0</td>\n",
       "      <td>0.0</td>\n",
       "      <td>0.0</td>\n",
       "      <td>0.0</td>\n",
       "      <td>0.0</td>\n",
       "      <td>0.0</td>\n",
       "      <td>0.0</td>\n",
       "      <td>0.0</td>\n",
       "      <td>0.0</td>\n",
       "    </tr>\n",
       "    <tr>\n",
       "      <th>4</th>\n",
       "      <td>0.967136</td>\n",
       "      <td>1.000000</td>\n",
       "      <td>0.830986</td>\n",
       "      <td>0.586854</td>\n",
       "      <td>0.356808</td>\n",
       "      <td>0.248826</td>\n",
       "      <td>0.145540</td>\n",
       "      <td>0.089202</td>\n",
       "      <td>0.117371</td>\n",
       "      <td>0.150235</td>\n",
       "      <td>...</td>\n",
       "      <td>0.0</td>\n",
       "      <td>0.0</td>\n",
       "      <td>0.0</td>\n",
       "      <td>0.0</td>\n",
       "      <td>0.0</td>\n",
       "      <td>0.0</td>\n",
       "      <td>0.0</td>\n",
       "      <td>0.0</td>\n",
       "      <td>0.0</td>\n",
       "      <td>0.0</td>\n",
       "    </tr>\n",
       "  </tbody>\n",
       "</table>\n",
       "<p>5 rows × 188 columns</p>\n",
       "</div>"
      ],
      "text/plain": [
       "        0         1         2         3         4         5         6    \\\n",
       "0  0.977941  0.926471  0.681373  0.245098  0.154412  0.191176  0.151961   \n",
       "1  0.960114  0.863248  0.461538  0.196581  0.094017  0.125356  0.099715   \n",
       "2  1.000000  0.659459  0.186486  0.070270  0.070270  0.059459  0.056757   \n",
       "3  0.925414  0.665746  0.541436  0.276243  0.196133  0.077348  0.071823   \n",
       "4  0.967136  1.000000  0.830986  0.586854  0.356808  0.248826  0.145540   \n",
       "\n",
       "        7         8         9    ...  178  179  180  181  182  183  184  185  \\\n",
       "0  0.085784  0.058824  0.049020  ...  0.0  0.0  0.0  0.0  0.0  0.0  0.0  0.0   \n",
       "1  0.088319  0.074074  0.082621  ...  0.0  0.0  0.0  0.0  0.0  0.0  0.0  0.0   \n",
       "2  0.043243  0.054054  0.045946  ...  0.0  0.0  0.0  0.0  0.0  0.0  0.0  0.0   \n",
       "3  0.060773  0.066298  0.058011  ...  0.0  0.0  0.0  0.0  0.0  0.0  0.0  0.0   \n",
       "4  0.089202  0.117371  0.150235  ...  0.0  0.0  0.0  0.0  0.0  0.0  0.0  0.0   \n",
       "\n",
       "   186  187  \n",
       "0  0.0  0.0  \n",
       "1  0.0  0.0  \n",
       "2  0.0  0.0  \n",
       "3  0.0  0.0  \n",
       "4  0.0  0.0  \n",
       "\n",
       "[5 rows x 188 columns]"
      ]
     },
     "execution_count": 3,
     "metadata": {},
     "output_type": "execute_result"
    }
   ],
   "source": [
    "X_train.head()"
   ]
  },
  {
   "cell_type": "code",
   "execution_count": 4,
   "id": "5dc9bab3",
   "metadata": {},
   "outputs": [
    {
     "name": "stdout",
     "output_type": "stream",
     "text": [
      "<class 'pandas.core.frame.DataFrame'>\n",
      "RangeIndex: 87554 entries, 0 to 87553\n",
      "Columns: 188 entries, 0 to 187\n",
      "dtypes: float64(188)\n",
      "memory usage: 125.6 MB\n"
     ]
    }
   ],
   "source": [
    "X_train.info()"
   ]
  },
  {
   "cell_type": "markdown",
   "id": "994ccf49",
   "metadata": {},
   "source": [
    "From above we can see the dataset is in float so we will convert it in int and also the last column is the taregt column\n",
    "and the data documentation is given below:\n",
    "\n",
    "Number of Samples: 109446                                                                                                   \n",
    "Number of Categories: 5                                                                                                     \n",
    "Sampling Frequency: 125Hz                                                                                                   \n",
    "Data Source: Physionet's MIT-BIH Arrhythmia Dataset                                                                         \n",
    "Classes: ['N': 0, 'S': 1, 'V': 2, 'F': 3, 'Q': 4]\n",
    "\n",
    "\n",
    "\n",
    "-N : Non-ecotic beats (normal beat) -S : Supraventricular ectopic beats -V : Ventricular ectopic beats -F : Fusion Beats -Q : Unknown Beats\n",
    "\n",
    "S,V,F  will be considered as some kind of arrhythmia"
   ]
  },
  {
   "cell_type": "code",
   "execution_count": 5,
   "id": "0faedea5",
   "metadata": {},
   "outputs": [
    {
     "data": {
      "text/plain": [
       "0    72471\n",
       "4     6431\n",
       "2     5788\n",
       "1     2223\n",
       "3      641\n",
       "Name: 187, dtype: int64"
      ]
     },
     "execution_count": 5,
     "metadata": {},
     "output_type": "execute_result"
    }
   ],
   "source": [
    "X_train[187] = X_train[187].astype(int)\n",
    "X_train[187].value_counts()"
   ]
  },
  {
   "cell_type": "code",
   "execution_count": 6,
   "id": "b466e614",
   "metadata": {},
   "outputs": [
    {
     "data": {
      "text/plain": [
       "<function matplotlib.pyplot.show(close=None, block=None)>"
      ]
     },
     "execution_count": 6,
     "metadata": {},
     "output_type": "execute_result"
    },
    {
     "data": {
      "image/png": "[encoded data removed]",
      "text/plain": [
       "<Figure size 360x360 with 1 Axes>"
      ]
     },
     "metadata": {
      "needs_background": "light"
     },
     "output_type": "display_data"
    }
   ],
   "source": [
    "import matplotlib.pyplot as plt\n",
    "\n",
    "X_train[187].hist(bins=50,figsize=(5,5))\n",
    "plt.show"
   ]
  },
  {
   "cell_type": "markdown",
   "id": "400ca41a",
   "metadata": {},
   "source": [
    " NOTE- Here we can see there is a lot of imbalance or we can say a bias in the data towards the normal beat.\n",
    "we have to fix this imabalance so our model can truly learn some insights from the data  otherwise\n",
    "our model will be biased towards the normal beat."
   ]
  },
  {
   "cell_type": "markdown",
   "id": "75c378d8",
   "metadata": {},
   "source": [
    "There are many methods of fixing the imbalance of the dataset like resampling methods.\n",
    "Also we should use right metrics for the evaluation in classification because normal accuracy can be misleading,so\n",
    "we can use metrics like f1_score, confusion matrix, recall score ,auc."
   ]
  },
  {
   "cell_type": "code",
   "execution_count": 7,
   "id": "c1884e86",
   "metadata": {},
   "outputs": [],
   "source": [
    "from sklearn.utils import resample\n",
    "\n",
    "row1=X_train[X_train[187]==1]\n",
    "row2=X_train[X_train[187]==2]\n",
    "row3=X_train[X_train[187]==3]\n",
    "row4=X_train[X_train[187]==4]\n",
    "row0=(X_train[X_train[187]==0]).sample(n=20000,random_state=42)\n",
    "\n",
    "row1_upsample=resample(row1,replace=True,n_samples=20000,random_state=123)\n",
    "row2_upsample=resample(row2,replace=True,n_samples=20000,random_state=124)\n",
    "row3_upsample=resample(row3,replace=True,n_samples=20000,random_state=125)\n",
    "row4_upsample=resample(row4,replace=True,n_samples=20000,random_state=126)\n",
    "\n",
    "X_train_resampled=pd.concat([row0,row1_upsample,row2_upsample,row3_upsample,row4_upsample])"
   ]
  },
  {
   "cell_type": "markdown",
   "id": "5407388d",
   "metadata": {},
   "source": [
    "Now checking the balanced dataset"
   ]
  },
  {
   "cell_type": "code",
   "execution_count": 8,
   "id": "49f06dfc",
   "metadata": {},
   "outputs": [
    {
     "name": "stdout",
     "output_type": "stream",
     "text": [
      "0    20000\n",
      "1    20000\n",
      "2    20000\n",
      "3    20000\n",
      "4    20000\n",
      "Name: 187, dtype: int64\n"
     ]
    }
   ],
   "source": [
    "print(X_train_resampled[187].value_counts())"
   ]
  },
  {
   "cell_type": "code",
   "execution_count": 9,
   "id": "d4381050",
   "metadata": {},
   "outputs": [
    {
     "data": {
      "text/plain": [
       "<function matplotlib.pyplot.show(close=None, block=None)>"
      ]
     },
     "execution_count": 9,
     "metadata": {},
     "output_type": "execute_result"
    },
    {
     "data": {
      "image/png": "[encoded data removed]",
      "text/plain": [
       "<Figure size 360x360 with 1 Axes>"
      ]
     },
     "metadata": {
      "needs_background": "light"
     },
     "output_type": "display_data"
    }
   ],
   "source": [
    "X_train_resampled[187].hist(bins=50,figsize=(5,5))\n",
    "plt.show"
   ]
  },
  {
   "cell_type": "code",
   "execution_count": 10,
   "id": "e8e55b0f",
   "metadata": {},
   "outputs": [
    {
     "data": {
      "text/plain": [
       "(100000, 188)"
      ]
     },
     "execution_count": 10,
     "metadata": {},
     "output_type": "execute_result"
    }
   ],
   "source": [
    "X_train_resampled.shape"
   ]
  },
  {
   "cell_type": "code",
   "execution_count": 11,
   "id": "c5069c1a",
   "metadata": {},
   "outputs": [
    {
     "data": {
      "text/plain": [
       "pandas.core.frame.DataFrame"
      ]
     },
     "execution_count": 11,
     "metadata": {},
     "output_type": "execute_result"
    }
   ],
   "source": [
    "type(X_train_resampled)"
   ]
  },
  {
   "cell_type": "markdown",
   "id": "16d4c732",
   "metadata": {},
   "source": [
    "Now i will be adding noise to generalize my train data and to avoid overfitting"
   ]
  },
  {
   "cell_type": "code",
   "execution_count": 12,
   "id": "8e3af5a4",
   "metadata": {},
   "outputs": [],
   "source": [
    "def add_gaussian_noise(signal):\n",
    "    noise=np.random.normal(0,0.5,186)\n",
    "    return (signal+noise)"
   ]
  },
  {
   "cell_type": "markdown",
   "id": "01eb04e4",
   "metadata": {},
   "source": [
    "# seperating labels from data and adding noise"
   ]
  },
  {
   "cell_type": "code",
   "execution_count": 13,
   "id": "ee26b871",
   "metadata": {},
   "outputs": [],
   "source": [
    "from keras.utils.np_utils import to_categorical\n",
    "\n",
    "y_train=X_train_resampled[187]\n",
    "y_test=X_test[187]\n",
    "y_train=to_categorical(y_train)\n",
    "y_test=to_categorical(y_test)"
   ]
  },
  {
   "cell_type": "code",
   "execution_count": 14,
   "id": "e4161c69",
   "metadata": {},
   "outputs": [],
   "source": [
    "import numpy as np\n",
    "\n",
    "X_train_mod=X_train_resampled.iloc[:,:186].values\n",
    "X_test_mod=X_test.iloc[:,:186].values\n",
    "\n",
    "for i in range(len(X_train_resampled)):\n",
    "    X_train_mod[i,:186]= add_gaussian_noise(X_train_mod[i,:186])\n",
    "    \n",
    "X_train_mod = X_train_mod.reshape(len(X_train_mod), X_train_mod.shape[1],1)\n",
    "X_test_mod = X_test_mod.reshape(len(X_test_mod), X_test_mod.shape[1],1)"
   ]
  },
  {
   "cell_type": "code",
   "execution_count": 15,
   "id": "a7cceb9e",
   "metadata": {},
   "outputs": [
    {
     "data": {
      "text/plain": [
       "(100000, 186, 1)"
      ]
     },
     "execution_count": 15,
     "metadata": {},
     "output_type": "execute_result"
    }
   ],
   "source": [
    "X_train_mod.shape"
   ]
  },
  {
   "cell_type": "code",
   "execution_count": 16,
   "id": "096e1de7",
   "metadata": {},
   "outputs": [
    {
     "data": {
      "text/plain": [
       "numpy.ndarray"
      ]
     },
     "execution_count": 16,
     "metadata": {},
     "output_type": "execute_result"
    }
   ],
   "source": [
    "type(X_train_mod)"
   ]
  },
  {
   "cell_type": "markdown",
   "id": "dbbe4a9c",
   "metadata": {},
   "source": [
    "# making the model"
   ]
  },
  {
   "cell_type": "code",
   "execution_count": 17,
   "id": "87dd1238",
   "metadata": {},
   "outputs": [],
   "source": [
    "import tensorflow as tf\n",
    "from tensorflow.keras import layers,models\n",
    "from tensorflow import keras"
   ]
  },
  {
   "cell_type": "code",
   "execution_count": 18,
   "id": "722195c0",
   "metadata": {},
   "outputs": [],
   "source": [
    "model = models.Sequential([\n",
    "    keras.layers.Conv1D(64, (6), activation='relu', input_shape=(186,1)),\n",
    "    keras.layers.BatchNormalization(),\n",
    "    keras.layers.MaxPool1D(pool_size=(3), strides=(2), padding=\"same\"),\n",
    "    keras.layers.Conv1D(64, (3), activation='relu'),\n",
    "    keras.layers.BatchNormalization(),\n",
    "    keras.layers.MaxPool1D(pool_size=(2), strides=(2), padding=\"same\"),\n",
    "    keras.layers.Conv1D(64, (3), activation='relu'),\n",
    "    keras.layers.BatchNormalization(),\n",
    "    keras.layers.MaxPool1D(pool_size=(2), strides=(2), padding=\"same\"),\n",
    "    layers.Flatten(),\n",
    "    keras.layers.Dense(64,activation = \"relu\"),\n",
    "    keras.layers.Dense(32,activation = \"relu\"),\n",
    "    keras.layers.Dense(5,activation = \"softmax\")\n",
    "])"
   ]
  },
  {
   "cell_type": "code",
   "execution_count": 19,
   "id": "94b63305",
   "metadata": {},
   "outputs": [],
   "source": [
    " model.compile(optimizer='adam', loss='categorical_crossentropy',metrics = ['accuracy'])"
   ]
  },
  {
   "cell_type": "code",
   "execution_count": 20,
   "id": "0288e09b",
   "metadata": {},
   "outputs": [
    {
     "name": "stdout",
     "output_type": "stream",
     "text": [
      "Epoch 1/5\n",
      "3125/3125 [==============================] - 151s 46ms/step - loss: 0.8951 - accuracy: 0.6560 - val_loss: 1.0534 - val_accuracy: 0.5658\n",
      "Epoch 2/5\n",
      "3125/3125 [==============================] - 152s 49ms/step - loss: 0.7927 - accuracy: 0.6993 - val_loss: 0.5653 - val_accuracy: 0.8605\n",
      "Epoch 3/5\n",
      "3125/3125 [==============================] - 154s 49ms/step - loss: 0.7583 - accuracy: 0.7131 - val_loss: 0.8208 - val_accuracy: 0.7370\n",
      "Epoch 4/5\n",
      "3125/3125 [==============================] - 154s 49ms/step - loss: 0.7327 - accuracy: 0.7215 - val_loss: 0.7606 - val_accuracy: 0.8179\n",
      "Epoch 5/5\n",
      "3125/3125 [==============================] - 145s 46ms/step - loss: 0.7074 - accuracy: 0.7320 - val_loss: 0.8607 - val_accuracy: 0.6556\n"
     ]
    }
   ],
   "source": [
    " history=model.fit(X_train_mod, y_train,epochs=5,batch_size=32,validation_data=(X_test_mod,y_test))"
   ]
  },
  {
   "cell_type": "code",
   "execution_count": 23,
   "id": "0e039853",
   "metadata": {},
   "outputs": [
    {
     "name": "stdout",
     "output_type": "stream",
     "text": [
      "685/685 [==============================] - 8s 12ms/step - loss: 0.8607 - accuracy: 0.6556\n",
      "accuracy is equal to 65.55819511413574\n"
     ]
    }
   ],
   "source": [
    "scores = model.evaluate((X_test_mod),y_test)\n",
    "print(f\"accuracy is equal to {scores[1]*100}\")"
   ]
  },
  {
   "cell_type": "markdown",
   "id": "e91b09f3",
   "metadata": {},
   "source": [
    "# Note-\n",
    "The accuracy here is not so much impressive due to the following reasons:\n",
    "1. We have used only 5 epcohs because it will take very long time to train it.\n",
    "2. We can see that the accuracy of validation and traininig set is gradually increasing as the number of epochs\n",
    "    is increasing so increasing the epochs might increase the accuracy.\n",
    "3. We can also see that the model is overfitting the data so we can tweak its hyperparameters and fix this\n",
    "\n",
    "I have made this model very simple just to give a brief overview of the system.\n",
    "\n",
    "Thankyou"
   ]
  },
  {
   "cell_type": "code",
   "execution_count": null,
   "id": "a1173a51",
   "metadata": {},
   "outputs": [],
   "source": []
  }
 ],
 "metadata": {
  "kernelspec": {
   "display_name": "Python 3",
   "language": "python",
   "name": "python3"
  },
  "language_info": {
   "codemirror_mode": {
    "name": "ipython",
    "version": 3
   },
   "file_extension": ".py",
   "mimetype": "text/x-python",
   "name": "python",
   "nbconvert_exporter": "python",
   "pygments_lexer": "ipython3",
   "version": "3.8.8"
  }
 },
 "nbformat": 4,
 "nbformat_minor": 5
}
